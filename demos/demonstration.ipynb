{
 "cells": [
  {
   "cell_type": "markdown",
   "metadata": {},
   "source": [
    "# geomatics\n",
    "a python tool for timeseries of multidimensional data"
   ]
  },
  {
   "cell_type": "code",
   "execution_count": null,
   "metadata": {},
   "outputs": [],
   "source": [
    "import geomatics\n",
    "import os\n",
    "import glob\n",
    "import datetime\n",
    "import json"
   ]
  },
  {
   "cell_type": "markdown",
   "metadata": {},
   "source": [
    "### 1. Get spatial data"
   ]
  },
  {
   "cell_type": "code",
   "execution_count": null,
   "metadata": {},
   "outputs": [],
   "source": [
    "gldas_data = sorted(glob.glob('/Users/riley/spatialdata/thredds/gldas/raw/*.nc4'))\n",
    "print(len(gldas_data))"
   ]
  },
  {
   "cell_type": "code",
   "execution_count": null,
   "metadata": {},
   "outputs": [],
   "source": [
    "geomatics.inspect.netcdf(gldas_data[0])"
   ]
  },
  {
   "cell_type": "code",
   "execution_count": null,
   "metadata": {},
   "outputs": [],
   "source": [
    "var = 'AvgSurfT_inst'\n",
    "dims = ('lon', 'lat')\n",
    "t_dim = 'time'"
   ]
  },
  {
   "cell_type": "markdown",
   "metadata": {},
   "source": [
    "### 2. Point timeseries"
   ]
  },
  {
   "cell_type": "code",
   "execution_count": null,
   "metadata": {},
   "outputs": [],
   "source": [
    "# BYU Campus\n",
    "lat = 40.25\n",
    "lon = -111.65\n",
    "coords = (lon, lat)\n",
    "print(f'https://www.google.com/maps/place/{lat},{lon}')"
   ]
  },
  {
   "cell_type": "code",
   "execution_count": null,
   "metadata": {},
   "outputs": [],
   "source": [
    "byu_series = geomatics.timeseries.point(\n",
    "    gldas_data,\n",
    "    var,\n",
    "    coords,\n",
    "    dims,\n",
    "    t_dim,\n",
    ")"
   ]
  },
  {
   "cell_type": "code",
   "execution_count": null,
   "metadata": {},
   "outputs": [],
   "source": [
    "byu_series.sort_values(by='datetime', inplace=True)\n",
    "byu_series.reset_index(drop=True, inplace=True)"
   ]
  },
  {
   "cell_type": "code",
   "execution_count": null,
   "metadata": {},
   "outputs": [],
   "source": [
    "byu_series"
   ]
  },
  {
   "cell_type": "markdown",
   "metadata": {},
   "source": [
    "### 3. Bounding box timeseries"
   ]
  },
  {
   "cell_type": "code",
   "execution_count": null,
   "metadata": {},
   "outputs": [],
   "source": [
    "# All of Utah\n",
    "minlat = 37\n",
    "minlon = -114\n",
    "maxlat = 42\n",
    "maxlon = -109\n",
    "min_coords = (minlon, minlat)\n",
    "max_coords = (maxlon, maxlat)\n",
    "print(f'https://www.google.com/maps/place/{minlat},{minlon}')\n",
    "print(f'https://www.google.com/maps/place/{maxlat},{maxlon}')"
   ]
  },
  {
   "cell_type": "code",
   "execution_count": null,
   "metadata": {},
   "outputs": [],
   "source": [
    "utah_series = geomatics.timeseries.bounding_box(\n",
    "    gldas_data,\n",
    "    var,\n",
    "    min_coords,\n",
    "    max_coords,\n",
    "    dims,\n",
    ")"
   ]
  },
  {
   "cell_type": "code",
   "execution_count": null,
   "metadata": {},
   "outputs": [],
   "source": [
    "utah_series.sort_values(by='datetime', inplace=True)\n",
    "utah_series.reset_index(drop=True, inplace=True)"
   ]
  },
  {
   "cell_type": "code",
   "execution_count": null,
   "metadata": {},
   "outputs": [],
   "source": [
    "utah_series"
   ]
  },
  {
   "cell_type": "markdown",
   "metadata": {},
   "source": [
    "### 4. Shapefile/GeoJSON timeseries"
   ]
  },
  {
   "cell_type": "code",
   "execution_count": null,
   "metadata": {},
   "outputs": [],
   "source": [
    "# The United States\n",
    "usa_geojson = geomatics.data.get_livingatlas_geojson('United States')\n",
    "filepath = '/Users/riley/spatialdata/geojson/united_states.json'\n",
    "with open(filepath, 'w') as file:\n",
    "    file.write(json.dumps(usa_geojson))"
   ]
  },
  {
   "cell_type": "code",
   "execution_count": null,
   "metadata": {},
   "outputs": [],
   "source": [
    "us_series = geomatics.timeseries.polygons(\n",
    "    gldas_data,\n",
    "    var,\n",
    "    filepath,\n",
    "    dims,\n",
    "    stats='all'\n",
    ")"
   ]
  },
  {
   "cell_type": "code",
   "execution_count": null,
   "metadata": {},
   "outputs": [],
   "source": [
    "us_series.sort_values(by='datetime', inplace=True)\n",
    "us_series.reset_index(drop=True, inplace=True)"
   ]
  },
  {
   "cell_type": "code",
   "execution_count": null,
   "metadata": {},
   "outputs": [],
   "source": [
    "us_series"
   ]
  },
  {
   "cell_type": "code",
   "execution_count": null,
   "metadata": {},
   "outputs": [],
   "source": [
    "us_series.to_csv('')"
   ]
  }
 ],
 "metadata": {
  "kernelspec": {
   "display_name": "Python 3",
   "language": "python",
   "name": "python3"
  },
  "language_info": {
   "codemirror_mode": {
    "name": "ipython",
    "version": 3
   },
   "file_extension": ".py",
   "mimetype": "text/x-python",
   "name": "python",
   "nbconvert_exporter": "python",
   "pygments_lexer": "ipython3",
   "version": "3.8.2"
  }
 },
 "nbformat": 4,
 "nbformat_minor": 1
}
